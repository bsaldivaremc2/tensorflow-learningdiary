{
 "cells": [
  {
   "cell_type": "markdown",
   "metadata": {},
   "source": [
    "# Image classification with logistic regression using tensorflow"
   ]
  },
  {
   "cell_type": "markdown",
   "metadata": {},
   "source": [
    "In this notebook I present the steps to classify an image using logistic regression through tensorflow. I evaluate the differences between a manual gradient descent programming and the function gradient descent from tensorflow library. I address some issues present in this process such as **zero * zero** multiplications, **nan** and **-inf** values that could emerge using this approach. This issues are present while using the **sigmoid** function as an activation function.\n"
   ]
  },
  {
   "cell_type": "markdown",
   "metadata": {},
   "source": [
    "If you encountered some of this complications, that may be reflected in the algorithm not reaching a convergence point or an error in the processing, you could apply the following procedure:\n",
    "<li>Scale your image array: Divide by 255 your image array so its values oscilate between 0 and 1. What happens if values are not scaled? **zero by zero multiplication**.  \n",
    "Recall the Cost function  \n",
    "** L=-mean( ylog(ŷ)+(1-y)log(1-ŷ) ) **   \n",
    ",the output of the activation function  \n",
    "**sigmoid(z)=1/(1+exp(-z))**  \n",
    "and  \n",
    "**z(x)=X * W+b** .  \n",
    "If the value of **X** is too high **sigmoid(z)** the factor **exp(-z)** will tend to zero. Therefore, **ŷ = sigmoid(z)=1/(1+0) = 1 **. This will turn **(1-y)log(1-ŷ) = (1-y)log(1-1) = (1-y)log(0) = -inf ** .  \n",
    "Additionally, if you are assigning the Weight (W) values randomly in a normal distribution with mean zero, this will give you negative factors. If the value of **X** is high this will lead to have **z** to be a big negative number, therefore, **1/(1+exp(-z)) = 1/(1+exp(-(-value))) = 1/(1+(exp(big positive number))) = 1/0 **. Thus a *Nan* value.  \n",
    "Computanionally, a variable will hold a limited number of digits (Float32, float64) so if the number is too big it will be round to zero or one. Scaling to values between 0 and 1, will solve this issue.\n",
    "</li>\n"
   ]
  },
  {
   "cell_type": "code",
   "execution_count": 46,
   "metadata": {
    "collapsed": false
   },
   "outputs": [
    {
     "data": {
      "text/plain": [
       "'1.1.0'"
      ]
     },
     "execution_count": 46,
     "metadata": {},
     "output_type": "execute_result"
    }
   ],
   "source": [
    "import pandas as pd\n",
    "from sklearn.preprocessing import MinMaxScaler\n",
    "from sklearn.model_selection import train_test_split\n",
    "\n",
    "import numpy as np\n",
    "import matplotlib.pyplot as plt\n",
    "\n",
    "import imp\n",
    "import sys\n",
    "sys.path.insert(0, '/home/.../MyLibraries')\n",
    "\n",
    "import model_score_plot\n",
    "imp.reload(model_score_plot)\n",
    "from model_score_plot import ModelScorePlot as MSP\n",
    "\n",
    "import plot_confusion_matrix_compact\n",
    "imp.reload(plot_confusion_matrix_compact)\n",
    "from plot_confusion_matrix_compact import plot_confusion_matrix\n",
    "\n",
    "import tensorflow as tf\n",
    "tf.__version__"
   ]
  },
  {
   "cell_type": "code",
   "execution_count": 47,
   "metadata": {
    "collapsed": false
   },
   "outputs": [
    {
     "name": "stdout",
     "output_type": "stream",
     "text": [
      "(2376, 2501)\n",
      "(2376, 38)\n",
      "X shape (2376, 2500) Y shape (2376, 38) m 2376 n 2500 #Classes 38\n",
      "Classes: [0.0, 1.0, 2.0, 3.0, 4.0, 5.0, 6.0, 7.0, 8.0, 9.0, 10.0, 11.0, 12.0, 13.0, 14.0, 15.0, 16.0, 17.0, 18.0, 19.0, 20.0, 21.0, 22.0, 23.0, 24.0, 25.0, 26.0, 27.0, 28.0, 29.0, 30.0, 31.0, 32.0, 33.0, 34.0, 35.0, 36.0, 37.0]\n"
     ]
    }
   ],
   "source": [
    "dataset_dir='/home/.../Dataset'\n",
    "dataset_file='/algae_base_sp_bw_50x50_all.npy'\n",
    "dataset_location = dataset_dir+'/'+dataset_file\n",
    "dataset_np = np.load(dataset_location)\n",
    "print(dataset_np.shape)\n",
    "\n",
    "Xdata = dataset_np[:,:-1].astype(\"float32\") +0.5\n",
    "Xdata = Xdata/500.0\n",
    "Ydata = dataset_np[:,-1:].flatten()#.astype(\"float32\")\n",
    "targets=list(set(Ydata.tolist()))\n",
    "\n",
    "Ydata = pd.get_dummies(Ydata)\n",
    "print(Ydata.shape)\n",
    "\n",
    "X_train, X_test, y_train, y_test = train_test_split(Xdata,Ydata)\n",
    "\n",
    "n=Xdata.shape[1]\n",
    "m=Xdata.shape[0]\n",
    "\n",
    "t = len(targets)\n",
    "\n",
    "print(\"X shape\",Xdata.shape,\"Y shape\",Ydata.shape,\"m\",m,\"n\",n,\"#Classes\",t)\n",
    "print(\"Classes:\",targets)\n",
    "\n"
   ]
  },
  {
   "cell_type": "code",
   "execution_count": 42,
   "metadata": {
    "collapsed": false
   },
   "outputs": [
    {
     "name": "stdout",
     "output_type": "stream",
     "text": [
      "570.818\n",
      "Diff loss 27.2964\n",
      "Diff loss 56.1931\n",
      "Diff loss 149.338\n",
      "Diff loss 172.23\n",
      "Diff loss 65.4575\n",
      "Diff loss 34.1841\n",
      "Diff loss 18.314\n",
      "Diff loss 9.99336\n",
      "Diff loss 5.83647\n",
      "Diff loss 4.02249\n",
      "Diff loss 3.05222\n",
      "Diff loss 2.24871\n",
      "Diff loss 1.6638\n",
      "Diff loss 1.27124\n",
      "Diff loss 0.997702\n",
      "Diff loss 0.797197\n",
      "Diff loss 0.63562\n",
      "Diff loss 0.503334\n",
      "Diff loss 0.399208\n",
      "Diff loss 0.320295\n",
      "Diff loss 0.261393\n",
      "Diff loss 0.217533\n",
      "Diff loss 0.185158\n",
      "Diff loss 0.161445\n",
      "Diff loss 0.144481\n",
      "Diff loss 0.132286\n",
      "Diff loss 0.123504\n",
      "Diff loss 0.117249\n",
      "Diff loss 0.112593\n",
      "Diff loss 0.109105\n",
      "Diff loss 0.106544\n",
      "Diff loss 0.104414\n",
      "Diff loss 0.102755\n",
      "Diff loss 0.101418\n",
      "Diff loss 0.10029\n",
      "Diff loss 0.0990648\n",
      "Convergence reached\n",
      "End loop\n"
     ]
    }
   ],
   "source": [
    "x  = tf.placeholder(tf.float32, shape=[None, n]) #mxn\n",
    "y = tf.placeholder(tf.float32, shape=[None, t]) #mxt\n",
    "\n",
    "# Weight tensor\n",
    "W = tf.Variable(tf.random_normal((n,t),mean=0.5,stddev=0.4,dtype=tf.float32))\n",
    "# Bias tensor\n",
    "b = tf.Variable(tf.multiply(tf.ones([t],tf.float32),1.1))\n",
    "\n",
    "#y_prop = tf.nn.softmax(tf.matmul(x,W) + b)\n",
    "z = tf.matmul(x,W) + b #mxn\n",
    "margin=tf.constant(0.0000001)\n",
    "sigmoid = tf.divide(tf.constant(1.0),tf.constant(1.0)+tf.exp(-z)+margin)\n",
    "#sigmoid = tf.nn.softmax(z)\n",
    "sigmoid_log=tf.log(sigmoid)\n",
    "one_y = tf.multiply(y,sigmoid_log)\n",
    "sig_comp = 1-sigmoid\n",
    "sigmoid_logcom = tf.log(sig_comp)\n",
    "zero_y = tf.multiply((1.0-y),sigmoid_logcom)\n",
    "\n",
    "logistic_loss_function = tf.add(one_y,zero_y)\n",
    "logistic_cost_function = tf.reduce_mean(-tf.reduce_sum(logistic_loss_function,1))\n",
    "\n",
    "learning_rate = 1.0\n",
    "\n",
    "dJ_dz = tf.subtract(sigmoid,y) #mxt\n",
    "dJ_dwm = tf.matmul(tf.transpose(x),dJ_dz)\n",
    "dJ_dw = tf.divide(dJ_dwm,m)# nxm X mxt -> nxt\n",
    "\n",
    "Wu = tf.subtract(W,tf.multiply(learning_rate,dJ_dw))\n",
    "ud_w = tf.assign(W,Wu)\n",
    "\n",
    "dJ_db = tf.reduce_mean(dJ_dz,0)\n",
    "bu = tf.subtract(b,tf.multiply(learning_rate,dJ_db))\n",
    "ud_b = tf.assign(b,bu)\n",
    "\n",
    "training_step = tf.train.GradientDescentOptimizer(learning_rate).minimize(logistic_cost_function)\n",
    "\n",
    "loss_n = tf.Variable(0.0)\n",
    "loss_n1 = tf.Variable(0.0)\n",
    "diff_loss = tf.subtract(loss_n,loss_n1)\n",
    "\n",
    "n_steps=40\n",
    "convergence_diff_loss = 0.1\n",
    "\n",
    "init_op = tf.global_variables_initializer()\n",
    "total_loss = []\n",
    "loss_diff = []\n",
    "w_params = np.array([])\n",
    "b_params = np.array([])\n",
    "\n",
    "with tf.Session() as s:\n",
    "    s.run(init_op)\n",
    "    lcf = s.run(logistic_cost_function,feed_dict={x: Xdata, y: Ydata})\n",
    "    s.run(tf.assign(loss_n,lcf))\n",
    "    total_loss.append(lcf)\n",
    "    print(lcf)\n",
    "    r1 = s.run([dJ_dz,ud_w,ud_b],feed_dict={x: Xdata, y: Ydata})\n",
    "    for _ in range(0,n_steps):\n",
    "        lcf = s.run(logistic_cost_function,feed_dict={x: Xdata, y: Ydata})\n",
    "        total_loss.append(lcf)\n",
    "        \n",
    "        s.run(tf.assign(loss_n1,lcf))\n",
    "        dl = s.run(diff_loss)\n",
    "        s.run(tf.assign(loss_n,lcf))\n",
    "        print(\"Diff loss\",dl)\n",
    "        loss_diff.append(dl)\n",
    "        \n",
    "        if (dl<convergence_diff_loss):\n",
    "            print(\"Convergence reached\")\n",
    "            break;\n",
    "        r1 = s.run([dJ_dz,ud_w,ud_b],feed_dict={x: Xdata, y: Ydata})\n",
    "    print(\"End loop\")\n",
    "    w_params = s.run(W)\n",
    "    b_params = s.run(b)"
   ]
  },
  {
   "cell_type": "code",
   "execution_count": 43,
   "metadata": {
    "collapsed": false
   },
   "outputs": [
    {
     "data": {
      "image/png": "[encoded data removed]",
      "text/plain": [
       "<matplotlib.figure.Figure at 0x7f026c504cc0>"
      ]
     },
     "metadata": {},
     "output_type": "display_data"
    },
    {
     "data": {
      "image/png": "[encoded data removed]",
      "text/plain": [
       "<matplotlib.figure.Figure at 0x7f026c504320>"
      ]
     },
     "metadata": {},
     "output_type": "display_data"
    }
   ],
   "source": [
    "ldl = len(loss_diff)\n",
    "xr = np.arange(0,ldl)\n",
    "plt.plot(xr,loss_diff)\n",
    "plt.title(\"Loss diff\")\n",
    "plt.xlabel(\"iter number\")\n",
    "plt.ylabel(\"Loss of iteration\")\n",
    "plt.show()\n",
    "\n",
    "ltl = len(total_loss)\n",
    "xr = np.arange(0,ltl)\n",
    "plt.plot(xr,total_loss)\n",
    "plt.title(\"Total loss\")\n",
    "plt.xlabel(\"iter number\")\n",
    "plt.ylabel(\"Loss of iteration\")\n",
    "plt.show()"
   ]
  },
  {
   "cell_type": "code",
   "execution_count": 44,
   "metadata": {
    "collapsed": false
   },
   "outputs": [
    {
     "name": "stdout",
     "output_type": "stream",
     "text": [
      "570.988\n",
      "Diff loss 1.68005\n",
      "Diff loss 1.92987\n",
      "Diff loss 2.24237\n",
      "Diff loss 2.54425\n",
      "Diff loss 2.84369\n",
      "Diff loss 3.16516\n",
      "Diff loss 3.49164\n",
      "Diff loss 3.80243\n",
      "Diff loss 4.17572\n",
      "Diff loss 4.60822\n",
      "Diff loss 5.18842\n",
      "Diff loss 5.94879\n",
      "Diff loss 7.04498\n",
      "Diff loss 8.53265\n",
      "Diff loss 10.6357\n",
      "Diff loss 13.5462\n",
      "Diff loss 18.2425\n",
      "Diff loss 24.5687\n",
      "Diff loss 31.7645\n",
      "Diff loss 41.3643\n",
      "Diff loss 46.8642\n",
      "Diff loss 45.8343\n",
      "Diff loss 43.0672\n",
      "Diff loss 42.3167\n",
      "Diff loss 36.4778\n",
      "Diff loss 28.1162\n",
      "Diff loss 24.0846\n",
      "Diff loss 19.7009\n",
      "Diff loss 15.0867\n",
      "Diff loss 12.1532\n",
      "Diff loss 9.85264\n",
      "Diff loss 7.89309\n",
      "Diff loss 6.1917\n",
      "Diff loss 4.69834\n",
      "Diff loss 3.56711\n",
      "Diff loss 2.6715\n",
      "Diff loss 1.93909\n",
      "Diff loss 1.39485\n",
      "Diff loss 0.994556\n",
      "Diff loss 0.741508\n",
      "End loop\n"
     ]
    }
   ],
   "source": [
    "total_loss_auto = []\n",
    "loss_diff_auto=[]\n",
    "w_params_auto = np.array([])\n",
    "b_params_auto = np.array([])\n",
    "with tf.Session() as s:\n",
    "    s.run(init_op)\n",
    "    ts,lcf = s.run([training_step,logistic_cost_function],feed_dict={x: Xdata, y: Ydata})\n",
    "    s.run(tf.assign(loss_n,lcf))\n",
    "    total_loss_auto.append(lcf)\n",
    "    print(lcf)\n",
    "    for _ in range(0,n_steps):\n",
    "        ts,lcf = s.run([training_step,logistic_cost_function],feed_dict={x: Xdata, y: Ydata})\n",
    "        total_loss_auto.append(lcf)\n",
    "        \n",
    "        s.run(tf.assign(loss_n1,lcf))\n",
    "        dl = s.run(diff_loss)\n",
    "        s.run(tf.assign(loss_n,lcf))\n",
    "        print(\"Diff loss\",dl)\n",
    "        loss_diff_auto.append(dl)\n",
    "        if (dl<convergence_diff_loss):\n",
    "            print(\"Convergence reached\")\n",
    "            break;\n",
    "    print(\"End loop\")\n",
    "    w_params_auto = s.run(W)\n",
    "    b_params_auto = s.run(b)"
   ]
  },
  {
   "cell_type": "code",
   "execution_count": 45,
   "metadata": {
    "collapsed": false
   },
   "outputs": [
    {
     "data": {
      "image/png": "[encoded data removed]",
      "text/plain": [
       "<matplotlib.figure.Figure at 0x7f026cb7c320>"
      ]
     },
     "metadata": {},
     "output_type": "display_data"
    },
    {
     "data": {
      "image/png": "[encoded data removed]",
      "text/plain": [
       "<matplotlib.figure.Figure at 0x7f026cc78ac8>"
      ]
     },
     "metadata": {},
     "output_type": "display_data"
    }
   ],
   "source": [
    "ldl = len(loss_diff_auto)\n",
    "xr = np.arange(0,ldl)\n",
    "plt.plot(xr,loss_diff_auto)\n",
    "plt.title(\"Loss diff auto\")\n",
    "plt.xlabel(\"iter number\")\n",
    "plt.ylabel(\"Loss of iteration\")\n",
    "plt.show()\n",
    "\n",
    "ltl = len(total_loss_auto)\n",
    "xr = np.arange(0,ltl)\n",
    "plt.plot(xr,total_loss_auto)\n",
    "plt.title(\"Total loss auto\")\n",
    "plt.xlabel(\"iter number\")\n",
    "plt.ylabel(\"Loss of iteration\")\n",
    "plt.show()"
   ]
  },
  {
   "cell_type": "markdown",
   "metadata": {},
   "source": [
    "### Observations"
   ]
  },
  {
   "cell_type": "markdown",
   "metadata": {},
   "source": [
    "When the **z** matrix values are \"too\" high, the sigmoid function becomes one. This is not desirable because the logistic loss function factor log(1-sigmoid) turns into log(1-1) = log (0) = -inf, which can't be used for computational processes. Consider that when working with images the highest possible value in the matrix is 255. If a pixel of value of intensity is ~20 and is multiplied by any **Weight** equivalent to 1 or above, this will produce a **1** value in its sigmoid transformation. Thus, if is required to scale the image matrix to a possible range between zero and 1 by dividing the matrix by 255."
   ]
  },
  {
   "cell_type": "code",
   "execution_count": 58,
   "metadata": {
    "collapsed": false
   },
   "outputs": [
    {
     "name": "stdout",
     "output_type": "stream",
     "text": [
      "[ 1  6 11 16 21 26 31 36 41 46 51 56 61 66 71 76 81 86 91 96]\n",
      "(20,)\n",
      "Exp factor:\n",
      "[  3.67879450e-01   2.47875229e-03   1.67017006e-05   1.12535176e-07\n",
      "   7.58256014e-10   5.10908937e-12   3.44247708e-14   2.31952296e-16\n",
      "   1.56288218e-18   1.05306175e-20   7.09547441e-23   4.78089300e-25\n",
      "   3.22134028e-27   2.17052199e-29   1.46248624e-31   9.85415445e-34\n",
      "   6.63967696e-36   4.47377931e-38   0.00000000e+00   0.00000000e+00]\n",
      "Sigmoid:\n",
      "[ 0.7310586   0.99752742  0.99998331  0.99999988  1.          1.          1.\n",
      "  1.          1.          1.          1.          1.          1.          1.\n",
      "  1.          1.          1.          1.          1.          1.        ]\n"
     ]
    },
    {
     "data": {
      "image/png": "[encoded data removed]",
      "text/plain": [
       "<matplotlib.figure.Figure at 0x7f026cb25ac8>"
      ]
     },
     "metadata": {},
     "output_type": "display_data"
    },
    {
     "data": {
      "image/png": "[encoded data removed]",
      "text/plain": [
       "<matplotlib.figure.Figure at 0x7f026cc78400>"
      ]
     },
     "metadata": {},
     "output_type": "display_data"
    }
   ],
   "source": [
    "x_in = tf.placeholder(tf.float32)\n",
    "exp_f = tf.exp(-x_in)\n",
    "sigmoidx = tf.divide(1.0,1.0+exp_f)\n",
    "xexp = np.arange(1,100,5)\n",
    "print(xexp)\n",
    "print(xexp.shape)\n",
    "expl = np.array([])\n",
    "sigl = np.array([])\n",
    "with tf.Session() as s:\n",
    "    r1,r2 = s.run([exp_f,sigmoidx],feed_dict={x_in:xexp})\n",
    "    print(\"Exp factor:\")\n",
    "    print(r1)\n",
    "    print(\"Sigmoid:\")\n",
    "    print(r2)\n",
    "    expl = r1\n",
    "    sigl = r2\n",
    "\n",
    "plt.plot(xexp,expl)\n",
    "plt.title(\"Exponential factor\")\n",
    "plt.xlabel(\"Exponent value\")\n",
    "plt.ylabel(\"Exponential factor value\")\n",
    "plt.show()\n",
    "\n",
    "plt.plot(xexp,sigl)\n",
    "plt.title(\"Sigmoid function\")\n",
    "plt.xlabel(\"X value\")\n",
    "plt.ylabel(\"Sigmoid value\")\n",
    "plt.show()"
   ]
  }
 ],
 "metadata": {
  "anaconda-cloud": {},
  "kernelspec": {
   "display_name": "Python [default]",
   "language": "python",
   "name": "python3"
  },
  "language_info": {
   "codemirror_mode": {
    "name": "ipython",
    "version": 3
   },
   "file_extension": ".py",
   "mimetype": "text/x-python",
   "name": "python",
   "nbconvert_exporter": "python",
   "pygments_lexer": "ipython3",
   "version": "3.5.2"
  }
 },
 "nbformat": 4,
 "nbformat_minor": 1
}
